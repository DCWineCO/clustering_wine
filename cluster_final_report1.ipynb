{
 "cells": [
  {
   "cell_type": "markdown",
   "id": "b5cef5a8",
   "metadata": {},
   "source": [
    "# Wine Time\n",
    "By:  Data Scientist Corey Baughman & DeAdrien Hill\n",
    "\n",
    "## Goal:\n",
    "* Discover drivers of wine quality scores in the wine quality dataset\n",
    "* Identify if clustering has a benefit in modeling\n",
    "* Use drivers to develop a machine learning model that predicts wine quality better than baseline"
   ]
  },
  {
   "cell_type": "markdown",
   "id": "5a256862",
   "metadata": {},
   "source": [
    "# Imports"
   ]
  },
  {
   "cell_type": "code",
   "execution_count": 1,
   "id": "2bb64403",
   "metadata": {},
   "outputs": [],
   "source": [
    "#Modules for data processing\n",
    "import warnings\n",
    "warnings.filterwarnings('ignore')\n",
    "import pandas as pd\n",
    "import numpy as np\n",
    "import matplotlib as plt\n",
    "import matplotlib.pyplot as plt\n",
    "import acquire\n",
    "import prepare\n",
    "import seaborn as sns\n",
    "from scipy.stats import pearsonr\n",
    "import scipy.stats as stats\n",
    "from sklearn.cluster import KMeans\n",
    "from sklearn.preprocessing import MinMaxScaler\n",
    "from sklearn.metrics import mean_squared_error\n",
    "from sklearn.linear_model import LinearRegression, LassoLars, TweedieRegressor\n",
    "from sklearn.preprocessing import PolynomialFeatures\n",
    "from sklearn.linear_model import Ridge\n",
    "from sklearn.svm import SVR\n"
   ]
  },
  {
   "cell_type": "markdown",
   "id": "43aff406",
   "metadata": {},
   "source": [
    "# Acquire\n",
    "\n",
    "* Data acquired from Data.World Wine Quality Dataset\n",
    "* Dataset contained 6497 rows and 12 columns before cleaning\n",
    "* The colomn is_red was added to verify wine types\n",
    "* Each row represents a red or white wine\n",
    "* Each column represents a feature of the wine"
   ]
  },
  {
   "cell_type": "markdown",
   "id": "6853a274",
   "metadata": {},
   "source": [
    "# Prepare\n",
    "\n",
    "* Dataset was clean with no missing values \n",
    "* Removed white space in column names\n",
    "* Checked for and removed outliers\n",
    "* Split the data for modeling"
   ]
  },
  {
   "cell_type": "markdown",
   "id": "37ed6f10",
   "metadata": {},
   "source": [
    "# Data Dictionary\n",
    "\n",
    "### Feature                           Discription\n",
    "\n",
    "**fixed acidity**:           most acids involved with wine or fixed or nonvolatile (do not evaporate readily)\n",
    "\n",
    "**volatile acidity**:        the amount of acetic acid in wine, which at too high of levels can lead to an unpleasant, vinegar taste',\n",
    "\n",
    "\n",
    "**citric acid**:             found in small quantities, citric acid can add freshness and flavor to wines\n",
    "\n",
    "**residual sugar**:          the amount of sugar remaining after fermentation stops its rare to find wines with less than 1 gram/liter and wines with greater than 45 grams/liter are considered sweet\n",
    "\n",
    "**chlorides**:               the amount of salt in the wine','the free form of SO2 exists in equilibrium between molecular SO2 (as a dissolved gas) and bisulfite ion; it prevents microbial growth and the oxidation of wine\n",
    "\n",
    "**free sulfur dioxide**:     amount of free and bound forms of S02; in low concentrations, SO2 is mostly undetectable in wine, but at free SO2 concentrations over 50 ppm, SO2 becomes evident in the nose and taste of wine\n",
    "    \n",
    "**total sulfur dioxide**:    the density of water is close to that of water depending on the percent alcohol and sugar content\n",
    "\n",
    "**density**:                 describes how acidic or basic a wine is on a scale from 0 (very acidic) to 14 (very basic); most wines are between 3-4 on the pH scale\n",
    "\n",
    "**pH**:                      describes how acidic or basic a wine is on a scale from 0 (very acidic) to 14 (very basic); most wines are between 3-4 on the pH scale\n",
    "\n",
    "**sulphates**:               a wine additive which can contribute to sulfur dioxide gas (S02) levels, wich acts as an antimicrobial and antioxidant\n",
    "\n",
    "**alcohol**:                 the percent alcohol content of the wine','(score between 0 and 10)\n",
    "\n",
    "**quality**:                 score between 0 and 10\n",
    "    \n",
    "**is_red**:                  indicated red or white with 1 or 0"
   ]
  },
  {
   "cell_type": "code",
   "execution_count": null,
   "id": "bf046d67",
   "metadata": {},
   "outputs": [],
   "source": [
    "df = acquire.new_wine_data()"
   ]
  },
  {
   "cell_type": "code",
   "execution_count": null,
   "id": "75ae4e7b",
   "metadata": {},
   "outputs": [],
   "source": [
    "#Removed duplicated index from import\n",
    "df.index.is_unique\n",
    "df.index.duplicated()\n",
    "df = df.loc[~df.index.duplicated(), :]"
   ]
  },
  {
   "cell_type": "markdown",
   "id": "3d104cb3",
   "metadata": {},
   "source": [
    "# Data Summary"
   ]
  },
  {
   "cell_type": "code",
   "execution_count": null,
   "id": "ba4725c2",
   "metadata": {},
   "outputs": [],
   "source": [
    "df.describe()"
   ]
  },
  {
   "cell_type": "code",
   "execution_count": null,
   "id": "1dec2c42",
   "metadata": {},
   "outputs": [],
   "source": [
    "for col in df.columns:\n",
    "    sns.boxplot(df[col])\n",
    "    plt.title(col)\n",
    "    plt.show()"
   ]
  },
  {
   "cell_type": "code",
   "execution_count": null,
   "id": "0fd61158",
   "metadata": {},
   "outputs": [],
   "source": [
    "#Removing whitespace, outliers, and splitting the data\n",
    "partitions = prepare.prepare(df, target_var='quality')"
   ]
  },
  {
   "cell_type": "code",
   "execution_count": null,
   "id": "7c8c4721",
   "metadata": {},
   "outputs": [],
   "source": [
    "#Labeling variables for modeling\n",
    "train = partitions[0]\n",
    "X_train = partitions[1]\n",
    "X_validate = partitions[2]\n",
    "X_test = partitions[3]\n",
    "y_train = partitions[4]\n",
    "y_validate = partitions[5]\n",
    "y_test = partitions[6]"
   ]
  },
  {
   "cell_type": "markdown",
   "id": "bfae4e69",
   "metadata": {},
   "source": [
    "# A look at the data"
   ]
  },
  {
   "cell_type": "code",
   "execution_count": null,
   "id": "de9f30f6",
   "metadata": {},
   "outputs": [],
   "source": [
    "train.head()"
   ]
  },
  {
   "cell_type": "markdown",
   "id": "fe5d0325",
   "metadata": {},
   "source": [
    "# Exploration"
   ]
  },
  {
   "cell_type": "markdown",
   "id": "fb271802",
   "metadata": {},
   "source": [
    "# What is the distribution of our data?"
   ]
  },
  {
   "cell_type": "code",
   "execution_count": null,
   "id": "edc1bea0",
   "metadata": {},
   "outputs": [],
   "source": [
    "#Hist plot to show distribution of each column in the dataframe\n",
    "fig = plt.figure(figsize = (15,20))\n",
    "ax = fig.gca()\n",
    "train.hist(ax = ax)\n",
    "plt.show()"
   ]
  },
  {
   "cell_type": "markdown",
   "id": "1b3bc202",
   "metadata": {},
   "source": [
    "# Do certain drivers affect quality more than others?"
   ]
  },
  {
   "cell_type": "code",
   "execution_count": null,
   "id": "5207066c",
   "metadata": {},
   "outputs": [],
   "source": [
    "#Correlation, p-value between feature and quality\n",
    "prepare.pearson_r(train)"
   ]
  },
  {
   "cell_type": "code",
   "execution_count": null,
   "id": "5ccedc92",
   "metadata": {},
   "outputs": [],
   "source": [
    "#plot of feature relationships to target\n",
    "prepare.relations_features(train)"
   ]
  },
  {
   "cell_type": "markdown",
   "id": "29c39b55",
   "metadata": {},
   "source": [
    "# Does alcohol effect wine quality?"
   ]
  },
  {
   "cell_type": "code",
   "execution_count": null,
   "id": "5f992c5f",
   "metadata": {},
   "outputs": [],
   "source": [
    "print('White = 0 Red = 1')\n",
    "sns.scatterplot(x=\"alcohol\", y=\"is_red\", data=train, hue='quality')\n",
    "plt.xlabel(\"Alcohol\")\n",
    "plt.ylabel(\"Wine Type\")\n",
    "plt.show()"
   ]
  },
  {
   "cell_type": "markdown",
   "id": "1abb0077",
   "metadata": {},
   "source": [
    "# Does density effect wine quality"
   ]
  },
  {
   "cell_type": "code",
   "execution_count": null,
   "id": "b2518a7a",
   "metadata": {},
   "outputs": [],
   "source": [
    "print('White = 0 Red = 1')\n",
    "sns.scatterplot(x=\"density\", y=\"is_red\", data=train, hue='quality')\n",
    "plt.xlabel(\"Density\")\n",
    "plt.ylabel(\"Wine Type\")\n",
    "plt.show()"
   ]
  },
  {
   "cell_type": "markdown",
   "id": "10b5c62f",
   "metadata": {},
   "source": [
    "# Do chlorides effect wine quality"
   ]
  },
  {
   "cell_type": "code",
   "execution_count": null,
   "id": "ccd522f1",
   "metadata": {},
   "outputs": [],
   "source": [
    "print('White = 0 Red = 1')\n",
    "sns.scatterplot(x=\"chlorides\", y=\"is_red\", data=train, hue='quality')\n",
    "plt.xlabel(\"Chlorides\")\n",
    "plt.ylabel(\"Wine Type\")\n",
    "plt.show()"
   ]
  },
  {
   "cell_type": "markdown",
   "id": "022a1802",
   "metadata": {},
   "source": [
    "# Is there a difference in quality for red or white wine?"
   ]
  },
  {
   "cell_type": "code",
   "execution_count": null,
   "id": "5a8632d2",
   "metadata": {},
   "outputs": [],
   "source": [
    "sns.boxplot(x=train.is_red, y=train.quality)\n",
    "plt.title(\"Is there a difference in quality for\\nred vs white wine?\")\n",
    "plt.show()\n"
   ]
  },
  {
   "cell_type": "markdown",
   "id": "94cb1d06",
   "metadata": {},
   "source": [
    "**Test the equal variance**\n",
    "**H0 is that the variances are equal**\n",
    "* Levene test\n",
    "* our two groups are 1. where train.is-red==0 and 2) where train.is_red == 1"
   ]
  },
  {
   "cell_type": "code",
   "execution_count": null,
   "id": "24e17dd3",
   "metadata": {},
   "outputs": [],
   "source": [
    "#Levene test\n",
    "stats.levene(train[train.is_red==0].quality, \n",
    "             train[train.is_red==1].quality)"
   ]
  },
  {
   "cell_type": "code",
   "execution_count": null,
   "id": "042a5177",
   "metadata": {},
   "outputs": [],
   "source": [
    "#ttest independant\n",
    "stats.ttest_ind(train[train.is_red==0].quality, \n",
    "                train[train.is_red==1].quality, \n",
    "                equal_var=True)"
   ]
  },
  {
   "cell_type": "markdown",
   "id": "85e57169-4af7-44e2-92ec-fa1e2f419dc7",
   "metadata": {},
   "source": [
    "# Is there a correlation between volatile acidity and quality?"
   ]
  },
  {
   "cell_type": "code",
   "execution_count": null,
   "id": "df53a9aa-4b76-4394-8a46-b57cd02378ac",
   "metadata": {},
   "outputs": [],
   "source": [
    "plt.scatter(x=train.volatileacidity, y=train.quality)\n",
    "plt.title('Does Volatile Acidity Affect Quality?')\n",
    "plt.xlabel('volatile acidity')\n",
    "plt.ylabel('quality')\n",
    "plt.show()"
   ]
  },
  {
   "cell_type": "code",
   "execution_count": null,
   "id": "6e7b02f9-b61f-41eb-8ae2-804b5bc4a245",
   "metadata": {},
   "outputs": [],
   "source": [
    "# Visually there appears to be a negative linear relationship."
   ]
  },
  {
   "cell_type": "markdown",
   "id": "5a957ecf-094d-406b-bb10-aa589485236d",
   "metadata": {},
   "source": [
    "$H_0:$ There is no significant linear relationship between volatile acidity and quality.\n",
    "\n",
    "$H_a:$ There is a significant linear relationship between volatile acidity and quality."
   ]
  },
  {
   "cell_type": "code",
   "execution_count": null,
   "id": "2b279adf-f03a-4019-bccd-b88349253373",
   "metadata": {},
   "outputs": [],
   "source": [
    "# volatile acidity is heavily right skewed so I'll examine using\n",
    "# Spearman's rank test\n",
    "α = 0.5\n",
    "stats.spearmanr(train.volatileacidity, train.quality)"
   ]
  },
  {
   "cell_type": "markdown",
   "id": "b9542cb4-d9ed-4902-81df-1adcc2c3abeb",
   "metadata": {},
   "source": [
    "p is less than alpha, so must reject the null hypothesis that there is no significant linear relationship between volatile acidity and quality."
   ]
  },
  {
   "cell_type": "markdown",
   "id": "b5f7d94b-c042-4b84-89b9-406650da7cd1",
   "metadata": {},
   "source": [
    "# Is there a linear correlation between residual free sulphur and quality?"
   ]
  },
  {
   "cell_type": "code",
   "execution_count": null,
   "id": "b5e75d8e-f30e-44a0-8cfa-365624b8311c",
   "metadata": {},
   "outputs": [],
   "source": [
    "plt.scatter(x=train.freesulfurdioxide, y=train.quality)\n",
    "plt.title('Does Free Sulfur Affect Quality?')\n",
    "plt.xlabel('sulfur dioxide')\n",
    "plt.ylabel('quality')\n",
    "plt.show()"
   ]
  },
  {
   "cell_type": "code",
   "execution_count": null,
   "id": "44f02b0a-889d-45f8-a794-c2b405484a1e",
   "metadata": {},
   "outputs": [],
   "source": [
    "# Visually there appears to be a very slight positive linear relationship."
   ]
  },
  {
   "cell_type": "markdown",
   "id": "af7b7f6f-4f01-41dc-9870-af19d97da560",
   "metadata": {},
   "source": [
    "$H_0:$ There is no significant linear relationship between free sulphur dioxide and quality.\n",
    "\n",
    "$H_a:$ There is a significant linear relationship between free sulphur dioxide and quality."
   ]
  },
  {
   "cell_type": "code",
   "execution_count": null,
   "id": "ebba5ecd-636a-4e5c-99c8-7c6847504d10",
   "metadata": {},
   "outputs": [],
   "source": [
    "# free sulphur dioxide is slightly right skewed, but due to CLT,\n",
    "# I'll examine using pearsons-r test\n",
    "α = 0.5\n",
    "stats.pearsonr(train.freesulfurdioxide, train.quality)"
   ]
  },
  {
   "cell_type": "markdown",
   "id": "a8861d69-673d-4487-a558-f04dc6262445",
   "metadata": {},
   "source": [
    "p is less than alpha, so must reject the null hypothesis that there is no significant linear relationship between free sulphur dioxide and quality."
   ]
  },
  {
   "cell_type": "markdown",
   "id": "87640d3d",
   "metadata": {},
   "source": [
    "# Does Clustering provide a better insight on the data?\n",
    "* Performed clustering on multiple target features in modeling. \n",
    "* No clear clusters indentified in this dataset\n",
    "* Sample work in dummy notebook."
   ]
  },
  {
   "cell_type": "markdown",
   "id": "ae023481",
   "metadata": {},
   "source": [
    "# Exploratory Summary\n",
    "* No significant difference in variances\n",
    "* Alcohol has the highest positive correlation score related to wine quality indicating higher alcohol levels \n",
    "increase wine quality\n",
    "* Density and Chlorides had similar negative correlations with wine quality indicating lower levels had a posistive affect on quality \n",
    "* Clustering features provided no clear insight about the data"
   ]
  },
  {
   "cell_type": "markdown",
   "id": "4115cb3f",
   "metadata": {},
   "source": [
    "# Modeling\n",
    "\n",
    "* I will use Root Mean Square Erro(RMSE) as my metric of evaluation\n",
    "* Using the Mean quality score we achieve a RMSE of .76 this will be the baseline for this project\n",
    "* I will use four different models for evaluation \n",
    "* Models will be evaluated on train and validate data first and the best performing model will be evaluated on the test data"
   ]
  },
  {
   "cell_type": "markdown",
   "id": "018ada1f",
   "metadata": {},
   "source": [
    "# Modeling Features\n",
    "\n",
    "**fixedacidity**: most acids involved with wine or fixed or nonvolatile (do not evaporate readily)\n",
    "\n",
    "**scaled_volatileacidity**: the amount of acetic acid in wine, which at too high of levels can lead to an unpleasant, vinegar taste',\n",
    "\n",
    "**citricacid**: found in small quantities, citric acid can add freshness and flavor to wines\n",
    "\n",
    "**residualsugar**: the amount of sugar remaining after fermentation stops its rare to find wines with less than 1 gram/liter and wines with greater than 45 grams/liter are considered sweet\n",
    "\n",
    "**scaled_chlorides**: the amount of salt in the wine','the free form of SO2 exists in equilibrium between molecular SO2 (as a dissolved gas) and bisulfite ion; it prevents microbial growth and the oxidation of wine\n",
    "\n",
    "**scaled_freesulfurdioxide**: amount of free and bound forms of S02; in low concentrations, SO2 is mostly undetectable in wine, but at free SO2 concentrations over 50 ppm, SO2 becomes evident in the nose and taste of wine\n",
    "\n",
    "**totalsulfurdioxide**: the density of water is close to that of water depending on the percent alcohol and sugar content\n",
    "\n",
    "**scaled_density**: describes how acidic or basic a wine is on a scale from 0 (very acidic) to 14 (very basic); most wines are between 3-4 on the pH scale\n",
    "\n",
    "**pH**: describes how acidic or basic a wine is on a scale from 0 (very acidic) to 14 (very basic); most wines are between 3-4 on the pH scale\n",
    "\n",
    "**scaled_sulphates**: a wine additive which can contribute to sulfur dioxide gas (S02) levels, wich acts as an antimicrobial and antioxidant\n",
    "\n",
    "**scaled_alcohol**: the percent alcohol content of the wine','(score between 0 and 10)\n",
    "\n",
    "**is_red**: indicated red or white with 1 or 0"
   ]
  },
  {
   "cell_type": "code",
   "execution_count": null,
   "id": "9e843836",
   "metadata": {},
   "outputs": [],
   "source": [
    "#Prep data for modeling\n",
    "X= partitions[1:4] \n",
    "for i in range(len(X)):\n",
    "    X[i] = prepare.scale_and_concat(X[i], partitions)\n",
    "    \n",
    "X_train = X[0].iloc[:,0:27]\n",
    "X_validate = X[1].iloc[:,0:27]\n",
    "X_test = X[2].iloc[:,0:27]"
   ]
  },
  {
   "cell_type": "code",
   "execution_count": null,
   "id": "8f5a643b",
   "metadata": {},
   "outputs": [],
   "source": [
    "#Prep data for modeling\n",
    "prepare.modeling_feats(X_train,X_validate,X_test)"
   ]
  },
  {
   "cell_type": "markdown",
   "id": "ab9fa19b",
   "metadata": {},
   "source": [
    "# Baseline\n",
    "* Will use Mean as baseline because it's a lower number\n",
    "* Plotted visual of baseline vs actual quality"
   ]
  },
  {
   "cell_type": "code",
   "execution_count": null,
   "id": "4e8379a4",
   "metadata": {
    "scrolled": true
   },
   "outputs": [],
   "source": [
    "#got RMSE using Mean and Median\n",
    "prepare.baseline(y_train, y_validate)"
   ]
  },
  {
   "cell_type": "code",
   "execution_count": null,
   "id": "b2c82fb7",
   "metadata": {},
   "outputs": [],
   "source": [
    "#baseline quality predictions vs actual quality predictions\n",
    "prepare.actualvs_pred(y_train)"
   ]
  },
  {
   "cell_type": "markdown",
   "id": "f07af2e3",
   "metadata": {},
   "source": [
    "# OLS Model"
   ]
  },
  {
   "cell_type": "code",
   "execution_count": null,
   "id": "368b2dc5",
   "metadata": {},
   "outputs": [],
   "source": [
    "#OLS Linear Regression Model Results\n",
    "prepare.lm_model(X_train,y_train,X_validate,y_validate)"
   ]
  },
  {
   "cell_type": "markdown",
   "id": "24e2e8c5",
   "metadata": {},
   "source": [
    "* OLS Model outperforms baseline"
   ]
  },
  {
   "cell_type": "markdown",
   "id": "30758674",
   "metadata": {},
   "source": [
    "# Lasso Lars"
   ]
  },
  {
   "cell_type": "code",
   "execution_count": null,
   "id": "61567f62",
   "metadata": {},
   "outputs": [],
   "source": [
    "#Lasso Lars Model Results\n",
    "prepare.lars_model(X_train,y_train,y_validate,X_validate)"
   ]
  },
  {
   "cell_type": "markdown",
   "id": "392f0e35",
   "metadata": {},
   "source": [
    "* Lasso Lars is about the same as baseline "
   ]
  },
  {
   "cell_type": "markdown",
   "id": "b80fa8d8",
   "metadata": {},
   "source": [
    "# Tweedie Regressor"
   ]
  },
  {
   "cell_type": "code",
   "execution_count": null,
   "id": "cf3e5b3c",
   "metadata": {},
   "outputs": [],
   "source": [
    "#Tweedie Regressor\n",
    "prepare.tweedie_model(X_train,y_train,y_validate,X_validate)"
   ]
  },
  {
   "cell_type": "markdown",
   "id": "5386f00e",
   "metadata": {},
   "source": [
    "* Tweedie Regressor beat baseline and was more in line with the OLS model"
   ]
  },
  {
   "cell_type": "markdown",
   "id": "53b8aa4d",
   "metadata": {},
   "source": [
    "# Polynomial Model"
   ]
  },
  {
   "cell_type": "code",
   "execution_count": null,
   "id": "588b4a25",
   "metadata": {},
   "outputs": [],
   "source": [
    "#Polynomial Model Results\n",
    "prepare.poly_model(X_train,y_train,y_validate,X_validate,X_test)"
   ]
  },
  {
   "cell_type": "markdown",
   "id": "8dd4648d",
   "metadata": {},
   "source": [
    "* Polynomial performed better than baseline and all other models. We will use this model on our test data."
   ]
  },
  {
   "cell_type": "markdown",
   "id": "ddd4edb7",
   "metadata": {},
   "source": [
    "# Evaluate\n",
    "\n",
    "* Plotted model predictions vs actual quality to see where each model performed\n",
    "* Plotted value changes with error change to see what quality scores gave models the best and worst predictions\n",
    "* Plotted distributions of the top two models against actual quality for a comparison of error"
   ]
  },
  {
   "cell_type": "code",
   "execution_count": null,
   "id": "d2c1844f",
   "metadata": {},
   "outputs": [],
   "source": [
    "#Model Predictions vs Actual\n",
    "prepare.plot_model_pred(y_validate)"
   ]
  },
  {
   "cell_type": "code",
   "execution_count": null,
   "id": "7fe982f1",
   "metadata": {},
   "outputs": [],
   "source": [
    "#view how errors change based on actual value change\n",
    "prepare.plot_errors(y_validate)"
   ]
  },
  {
   "cell_type": "code",
   "execution_count": null,
   "id": "a36ef853",
   "metadata": {},
   "outputs": [],
   "source": [
    "#Plot the top two models vs actual\n",
    "prepare.top_model(y_validate)"
   ]
  },
  {
   "cell_type": "markdown",
   "id": "e7f16901",
   "metadata": {},
   "source": [
    "# Polynomial on Test Data\n",
    "\n",
    "* The Polynomial Model return a .58 RMSE on test data\n",
    "* Polynomial Model decreased errors by 23.44%"
   ]
  },
  {
   "cell_type": "code",
   "execution_count": null,
   "id": "aded1da8",
   "metadata": {},
   "outputs": [],
   "source": [
    "#Evaluate best model on test data\n",
    "prepare.best_model(X_train,y_test,y_train,X_validate,X_test)"
   ]
  },
  {
   "cell_type": "code",
   "execution_count": null,
   "id": "5ec4c2ab",
   "metadata": {},
   "outputs": [],
   "source": [
    "#verify decreased error percentage\n",
    "prepare.final_model(y_test,y_validate)"
   ]
  },
  {
   "cell_type": "markdown",
   "id": "d458c42f",
   "metadata": {},
   "source": [
    "# Conclusion \n",
    "\n",
    "* Majority of wine quality scores fell between 5-7 \n",
    "* All models tested werent very successful predicting quality below 5 or above 7\n",
    "* No clear clusters were visisble in this dataset, clustering could be helpfull at a later time \n",
    "* No clear driver of wine quality, using multiple features proved to be the most successful approach when modeling"
   ]
  },
  {
   "cell_type": "markdown",
   "id": "8d08c026",
   "metadata": {},
   "source": [
    "# Recommendations \n",
    "\n",
    "* Trying more combinations of features to achieve a lower RMSE\n",
    "* Try different regression algorithms that havent been used on the dataset\n",
    "* Collecting more data on high quality wines to help improve predictions"
   ]
  },
  {
   "cell_type": "markdown",
   "id": "127678c7",
   "metadata": {},
   "source": [
    "# Next Steps\n",
    "* Research Ridge Regression and SVD to see if either model could be an improvement on what we currently have"
   ]
  }
 ],
 "metadata": {
  "kernelspec": {
   "display_name": "Python 3 (ipykernel)",
   "language": "python",
   "name": "python3"
  },
  "language_info": {
   "codemirror_mode": {
    "name": "ipython",
    "version": 3
   },
   "file_extension": ".py",
   "mimetype": "text/x-python",
   "name": "python",
   "nbconvert_exporter": "python",
   "pygments_lexer": "ipython3",
   "version": "3.9.13"
  }
 },
 "nbformat": 4,
 "nbformat_minor": 5
}
